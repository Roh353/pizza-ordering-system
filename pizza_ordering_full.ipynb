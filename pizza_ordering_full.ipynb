{
  "cells": [
    {
      "cell_type": "markdown",
      "metadata": {
        "id": "view-in-github",
        "colab_type": "text"
      },
      "source": [
        "<a href=\"https://colab.research.google.com/github/Roh353/pizza-ordering-system/blob/main/pizza_ordering_full.ipynb\" target=\"_parent\"><img src=\"https://colab.research.google.com/assets/colab-badge.svg\" alt=\"Open In Colab\"/></a>"
      ]
    },
    {
      "cell_type": "code",
      "execution_count": 2,
      "metadata": {
        "colab": {
          "base_uri": "https://localhost:8080/"
        },
        "id": "z-_lnkrQlSL1",
        "outputId": "7c9e61e9-be18-4d90-b5f7-fea5c119f848"
      },
      "outputs": [
        {
          "output_type": "stream",
          "name": "stdout",
          "text": [
            "1.smallpizza\n",
            "2.mediumpizza\n",
            "3.largepizza\n",
            "4.any other number to exit\n",
            "enter the choicesmallpizza\n",
            "{'price': 150}\n",
            "{'smallpizza': {'price': 150}}\n",
            "would you like an addonyes\n",
            "peproni\n",
            "extra cheese\n",
            "enter the addonpeproni\n",
            "{'smallpizza': {'price': 150}, 'Speproni': {'price': 20}}\n",
            "the selected items {'smallpizza': {'price': 150}, 'Speproni': {'price': 20}}\n",
            "would you like an addonyes\n",
            "peproni\n",
            "extra cheese\n",
            "enter the addonextra cheese\n",
            "{'smallpizza': {'price': 150}, 'Speproni': {'price': 20}, 'extra cheese': {'price': 10}}\n",
            "the selected items {'smallpizza': {'price': 150}, 'Speproni': {'price': 20}, 'extra cheese': {'price': 10}}\n",
            "would you like an addonno\n",
            "1.smallpizza\n",
            "2.mediumpizza\n",
            "3.largepizza\n",
            "4.any other number to exit\n",
            "enter the choicelargepizza\n",
            "{'price': 80}\n",
            "{'smallpizza': {'price': 150}, 'Speproni': {'price': 20}, 'extra cheese': {'price': 10}, 'largepizza': {'price': 80}}\n",
            "would you like an addonpeproni\n",
            "the selected items {'smallpizza': {'price': 150}, 'Speproni': {'price': 20}, 'extra cheese': {'price': 10}, 'largepizza': {'price': 80}}\n",
            "would you like an addonyes\n",
            "peproni\n",
            "extra cheese\n",
            "enter the addonpeproni\n",
            "{'smallpizza': {'price': 150}, 'Speproni': {'price': 20}, 'extra cheese': {'price': 10}, 'largepizza': {'price': 80}, 'peproni': {'price': 30}}\n",
            "the selected items {'smallpizza': {'price': 150}, 'Speproni': {'price': 20}, 'extra cheese': {'price': 10}, 'largepizza': {'price': 80}, 'peproni': {'price': 30}}\n",
            "would you like an addonno\n",
            "1.smallpizza\n",
            "2.mediumpizza\n",
            "3.largepizza\n",
            "4.any other number to exit\n",
            "enter the choicesmallpizza\n",
            "{'price': 150}\n",
            "{'smallpizza': {'price': 150}, 'Speproni': {'price': 20}, 'extra cheese': {'price': 10}, 'largepizza': {'price': 80}, 'peproni': {'price': 30}}\n",
            "would you like an addonno\n",
            "1.smallpizza\n",
            "2.mediumpizza\n",
            "3.largepizza\n",
            "4.any other number to exit\n",
            "enter the choice4\n",
            "total= 440\n"
          ]
        }
      ],
      "source": [
        "pizza={\n",
        "    'smallpizza':{\n",
        "        'price':150\n",
        "    },\n",
        "    'mediumpizza':{\n",
        "        'price':50\n",
        "    },\n",
        "    'largepizza':{\n",
        "        'price':80\n",
        "      }\n",
        "}\n",
        "addon={\n",
        "    'Speproni':{\n",
        "        'price':20\n",
        "    },\n",
        "    'peproni':{\n",
        "        'price':30\n",
        "    },\n",
        "    'extra cheese':{\n",
        "        'price':10\n",
        "    }\n",
        "}\n",
        "\n",
        "select={}\n",
        "qty={}\n",
        "while True:    \n",
        "  print('1.smallpizza')\n",
        "  print('2.mediumpizza')\n",
        "  print('3.largepizza')\n",
        "  print('4.any other number to exit')\n",
        "  a=input('enter the choice')\n",
        "  if a in pizza.keys():\n",
        "    if a in select.keys():\n",
        "      z=select[a]\n",
        "      if a in qty.keys():\n",
        "        z=qty[a]\n",
        "        qty[a]=z+1\n",
        "      else:\n",
        "          qty[a]=2\n",
        "\n",
        "    print(pizza[a])\n",
        "    y=pizza[a]\n",
        "    select[a]=y\n",
        "    print(select)\n",
        "  else:\n",
        "    break\n",
        "    print('wrong')\n",
        "  for b in range(10):\n",
        "    b=input('would you like an addon')\n",
        "    if b=='yes':\n",
        "      print('peproni')\n",
        "      print('extra cheese')\n",
        "      c=input('enter the addon')\n",
        "      if (c=='peproni' and a=='smallpizza'):\n",
        "        w=addon['Speproni']\n",
        "        select['Speproni']=w\n",
        "        print(select)\n",
        "      elif c in addon.keys():\n",
        "        x=addon[c]\n",
        "        select[c]=x\n",
        "        print(select)\n",
        "      else:\n",
        "        print('wrong')\n",
        "    elif b=='no':\n",
        "      break\n",
        "    print('the selected items',select)\n",
        "  s=0\n",
        "for i in select.keys():\n",
        "  if i in qty.keys():\n",
        "    m=qty[i]\n",
        "    v=select[i]['price']\n",
        "    kk=m*v\n",
        "    s+=kk\n",
        "  else:\n",
        "    s+=select[i]['price']\n",
        "print('total=',s)\n",
        "  \n",
        "  \n",
        "  \n"
      ]
    },
    {
      "cell_type": "code",
      "execution_count": null,
      "metadata": {
        "id": "P-TakshwqiNO"
      },
      "outputs": [],
      "source": [
        ""
      ]
    }
  ],
  "metadata": {
    "colab": {
      "name": "pizza ordering full.ipynb",
      "provenance": [],
      "authorship_tag": "ABX9TyMATCpOKhcL9tgkEHfr2C2G",
      "include_colab_link": true
    },
    "kernelspec": {
      "display_name": "Python 3",
      "name": "python3"
    },
    "language_info": {
      "name": "python"
    }
  },
  "nbformat": 4,
  "nbformat_minor": 0
}