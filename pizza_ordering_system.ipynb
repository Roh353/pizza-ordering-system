{
  "nbformat": 4,
  "nbformat_minor": 0,
  "metadata": {
    "colab": {
      "name": "pizza ordering system.ipynb",
      "provenance": [],
      "collapsed_sections": [],
      "authorship_tag": "ABX9TyMaJykDi1/NRjiRmAE1Ki9f",
      "include_colab_link": true
    },
    "kernelspec": {
      "display_name": "Python 3",
      "name": "python3"
    },
    "language_info": {
      "name": "python"
    }
  },
  "cells": [
    {
      "cell_type": "markdown",
      "metadata": {
        "id": "view-in-github",
        "colab_type": "text"
      },
      "source": [
        "<a href=\"https://colab.research.google.com/github/Roh353/pizza-ordering-system/blob/main/pizza_ordering_system.ipynb\" target=\"_parent\"><img src=\"https://colab.research.google.com/assets/colab-badge.svg\" alt=\"Open In Colab\"/></a>"
      ]
    },
    {
      "cell_type": "code",
      "metadata": {
        "colab": {
          "base_uri": "https://localhost:8080/"
        },
        "id": "4gTMccZjXgxm",
        "outputId": "71375a58-390c-439c-b2ff-538774bc7c31"
      },
      "source": [
        "pizza={\n",
        "    'smallpizza':{\n",
        "        'price':150\n",
        "    },\n",
        "    'mediumpizza':{\n",
        "        'price':50\n",
        "    },\n",
        "    'largepizza':{\n",
        "        'price':80\n",
        "      }\n",
        "}\n",
        "addon={\n",
        "    'Speproni':{\n",
        "        'price':20\n",
        "    },\n",
        "    'peproni':{\n",
        "        'price':30\n",
        "    },\n",
        "    'extra cheese':{\n",
        "        'price':10\n",
        "    }\n",
        "}\n",
        "\n",
        "select={}\n",
        "qty={}\n",
        "while True:    \n",
        "  print('1.smallpizza')\n",
        "  print('2.mediumpizza')\n",
        "  print('3.largepizza')\n",
        "  print('4.any other number to exit')\n",
        "  a=input('enter the choice')\n",
        "  if a in pizza.keys():\n",
        "    print(pizza[a])\n",
        "    y=pizza[a]\n",
        "    select[a]=y\n",
        "    print(select)\n",
        "  else:\n",
        "    break\n",
        "    print('wrong')\n",
        "  for b in range(3):\n",
        "    b=input('would you like an addon')\n",
        "    if b=='yes':\n",
        "      print('peproni')\n",
        "      print('extra cheese')\n",
        "      c=input('enter the addon')\n",
        "      if (c=='peproni' and a=='smallpizza'):\n",
        "        w=addon['Speproni']\n",
        "        select['Speproni']=w\n",
        "        print(select)\n",
        "      elif c in addon.keys():\n",
        "        x=addon[c]\n",
        "        select[c]=x\n",
        "        print(select)\n",
        "      else:\n",
        "        print('wrong')\n",
        "    elif b=='no':\n",
        "      break\n",
        "    print('the selected items',select)\n",
        "  s=0\n",
        "for i in select.keys():\n",
        "  s+=select[i]['price']\n",
        "print('total=',s)\n",
        "  \n",
        "  \n",
        "  \n"
      ],
      "execution_count": null,
      "outputs": [
        {
          "output_type": "stream",
          "name": "stdout",
          "text": [
            "1.smallpizza\n",
            "2.mediumpizza\n",
            "3.largepizza\n",
            "enter the choicemediumpizza\n",
            "{'price': 50}\n",
            "{'mediumpizza': {'price': 50}}\n",
            "would you like an addonyes\n",
            "peproni\n",
            "extra cheese\n",
            "enter the addonpeproni\n",
            "{'mediumpizza': {'price': 50}, 'peproni': {'price': 30}}\n",
            "the selected items {'mediumpizza': {'price': 50}, 'peproni': {'price': 30}}\n",
            "would you like an addonyes\n",
            "peproni\n",
            "extra cheese\n",
            "enter the addonextra cheese\n",
            "{'mediumpizza': {'price': 50}, 'peproni': {'price': 30}, 'extra cheese': {'price': 10}}\n",
            "the selected items {'mediumpizza': {'price': 50}, 'peproni': {'price': 30}, 'extra cheese': {'price': 10}}\n",
            "would you like an addonno\n",
            "1.smallpizza\n",
            "2.mediumpizza\n",
            "3.largepizza\n",
            "enter the choice4\n",
            "total= 90\n"
          ]
        }
      ]
    },
    {
      "cell_type": "code",
      "metadata": {
        "id": "VDS6E7H-WmNE"
      },
      "source": [
        ""
      ],
      "execution_count": null,
      "outputs": []
    }
  ]
}